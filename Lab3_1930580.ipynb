{
  "cells": [
    {
      "cell_type": "markdown",
      "source": [
        "Name: Zeba Tusnia Towshi ID: 1810222 Lab Assignment 3\n"
      ],
      "metadata": {
        "id": "GUtKHFyG422l"
      }
    },
    {
      "cell_type": "markdown",
      "metadata": {
        "id": "3RJljra5hVWR"
      },
      "source": [
        "#### **Wheat Seed Classification**\n",
        "\n",
        "In this assignment, you will use the [Wheat Seed Dataset](https://archive.ics.uci.edu/ml/datasets/seeds) to classify the type of wheat seed based on the measurements of the seed. The dataset contains 7 attributes and 210 instances. The attributes are:\n",
        "\n",
        "1. Area\n",
        "2. Perimeter\n",
        "3. Compactness\n",
        "4. Length of Kernel\n",
        "5. Width of Kernel\n",
        "6. Asymmetry Coefficient\n",
        "7. Length of Kernel Groove\n",
        "\n",
        "Based on the attributes, the dataset contains 3 classes:\n",
        "\n",
        "1. Kama\n",
        "2. Rosa\n",
        "3. Canadian\n",
        "\n",
        "The text file `seeds_dataset.txt` contains the dataset. The first 7 columns are the attributes and the last column is the class label. The class labels are encoded as  1, 2, and 3 for Kama, Rosa, and Canadian, respectively. The goal of this assignment is to build a classifier that can predict the type of wheat seed based on the measurements of the seed. Follow the instructions below to complete the assignment."
      ]
    },
    {
      "cell_type": "code",
      "source": [
        "from google.colab import drive\n",
        "drive.mount('/content/drive')\n",
        "\n"
      ],
      "metadata": {
        "colab": {
          "base_uri": "https://localhost:8080/"
        },
        "id": "u9MsyFwpwek6",
        "outputId": "dbf89b07-d748-42fc-9e09-503e64857620"
      },
      "execution_count": null,
      "outputs": [
        {
          "output_type": "stream",
          "name": "stdout",
          "text": [
            "Mounted at /content/drive\n"
          ]
        }
      ]
    },
    {
      "cell_type": "code",
      "source": [
        "import os\n",
        "import numpy as np\n",
        "from PIL import Image\n",
        "import matplotlib.pyplot as plt\n",
        "from sklearn.metrics import confusion_matrix\n",
        "from sklearn.neighbors import KNeighborsClassifier\n"
      ],
      "metadata": {
        "id": "XDPsAEyrxQ6q"
      },
      "execution_count": null,
      "outputs": []
    },
    {
      "cell_type": "code",
      "source": [
        "dataset_path = '/content/drive/MyDrive/seeds_dataset.txt'\n",
        "dataset = np.genfromtxt(fname=dataset_path, delimiter = \"\\t\")\n",
        "print(dataset)\n"
      ],
      "metadata": {
        "colab": {
          "base_uri": "https://localhost:8080/"
        },
        "id": "O_orVql5xcu7",
        "outputId": "7312e110-8820-42d3-a4e3-f0a125131c2c"
      },
      "execution_count": null,
      "outputs": [
        {
          "output_type": "stream",
          "name": "stdout",
          "text": [
            "[[15.26   14.84    0.871  ...  2.221   5.22    1.    ]\n",
            " [14.88   14.57    0.8811 ...  1.018   4.956   1.    ]\n",
            " [14.29   14.09    0.905  ...  2.699   4.825   1.    ]\n",
            " ...\n",
            " [13.2    13.66    0.8883 ...  8.315   5.056   3.    ]\n",
            " [11.84   13.21    0.8521 ...  3.598   5.044   3.    ]\n",
            " [12.3    13.34    0.8684 ...  5.637   5.063   3.    ]]\n"
          ]
        }
      ]
    },
    {
      "cell_type": "code",
      "source": [
        "shuffled_data=np.random.shuffle(dataset)\n",
        "print(shuffled_data)\n",
        "\n",
        "def shuffle_data(dataset):\n",
        "    indices = np.arange(len(dataset))\n",
        "    np.random.shuffle(indices)\n",
        "    shuffled_dataset=dataset[indices]\n",
        "    return shuffled_dataset\n",
        "\n",
        "shuffled_data = shuffle_data(dataset)\n",
        "print(shuffled_data)"
      ],
      "metadata": {
        "colab": {
          "base_uri": "https://localhost:8080/"
        },
        "id": "5fXAdGN3zAYX",
        "outputId": "b8798918-95f4-434f-be10-1c59634aa614"
      },
      "execution_count": null,
      "outputs": [
        {
          "output_type": "stream",
          "name": "stdout",
          "text": [
            "None\n",
            "[[17.55   15.66    0.8991 ...  5.366   5.661   2.    ]\n",
            " [20.16   17.03    0.8735 ...  1.91    6.185   2.    ]\n",
            " [12.19   13.36    0.8579 ...  4.857   5.158   3.    ]\n",
            " ...\n",
            " [11.87   13.02    0.8795 ...  3.597   5.132   3.    ]\n",
            " [11.23   12.63    0.884  ...  2.269   4.703   1.    ]\n",
            " [17.36   15.76    0.8785 ...  3.526   5.971   2.    ]]\n"
          ]
        }
      ]
    },
    {
      "cell_type": "code",
      "source": [
        "features = shuffled_data[:, 0:7]\n",
        "label = shuffled_data[:, 7]\n",
        "print(features)\n",
        "print(label)"
      ],
      "metadata": {
        "colab": {
          "base_uri": "https://localhost:8080/"
        },
        "id": "mQITVrV119BO",
        "outputId": "b115330c-df3e-4f94-be56-d84fa0036533"
      },
      "execution_count": null,
      "outputs": [
        {
          "output_type": "stream",
          "name": "stdout",
          "text": [
            "[[17.55   15.66    0.8991 ...  3.69    5.366   5.661 ]\n",
            " [20.16   17.03    0.8735 ...  3.773   1.91    6.185 ]\n",
            " [12.19   13.36    0.8579 ...  2.909   4.857   5.158 ]\n",
            " ...\n",
            " [11.87   13.02    0.8795 ...  2.953   3.597   5.132 ]\n",
            " [11.23   12.63    0.884  ...  2.879   2.269   4.703 ]\n",
            " [17.36   15.76    0.8785 ...  3.574   3.526   5.971 ]]\n",
            "[2. 2. 3. 3. 3. 3. 2. 3. 3. 2. 1. 3. 3. 3. 2. 2. 2. 2. 3. 2. 1. 1. 3. 2.\n",
            " 2. 2. 1. 2. 2. 1. 1. 1. 1. 1. 1. 1. 1. 3. 2. 3. 3. 3. 2. 1. 2. 1. 3. 1.\n",
            " 3. 1. 1. 1. 3. 3. 2. 2. 3. 1. 3. 1. 3. 3. 2. 3. 2. 2. 2. 1. 2. 3. 3. 1.\n",
            " 1. 2. 3. 2. 2. 2. 1. 1. 1. 3. 2. 1. 3. 2. 2. 3. 1. 1. 1. 3. 1. 2. 2. 1.\n",
            " 1. 1. 3. 1. 1. 1. 1. 3. 2. 3. 3. 1. 3. 3. 3. 2. 1. 1. 3. 2. 1. 3. 2. 1.\n",
            " 3. 1. 1. 3. 3. 1. 2. 2. 3. 1. 2. 1. 3. 2. 3. 2. 2. 2. 3. 1. 1. 3. 3. 1.\n",
            " 3. 2. 2. 1. 3. 2. 1. 1. 2. 3. 1. 2. 2. 2. 3. 2. 3. 3. 2. 2. 3. 3. 1. 2.\n",
            " 1. 3. 3. 1. 2. 1. 1. 2. 2. 1. 1. 2. 3. 2. 1. 2. 2. 1. 1. 2. 2. 3. 3. 2.\n",
            " 3. 3. 3. 3. 1. 3. 2. 1. 1. 3. 2. 2. 3. 1. 2. 3. 1. 2.]\n"
          ]
        }
      ]
    },
    {
      "cell_type": "code",
      "source": [
        "train_features, test_features = np.split(features, [int(0.8*len(dataset))], axis=0)\n",
        "train_labels, test_labels = np.split(label, [int(0.8*len(dataset))], axis=0)\n",
        "\n",
        "\n",
        "\n",
        "\n"
      ],
      "metadata": {
        "id": "_5lrITqO57CP"
      },
      "execution_count": null,
      "outputs": []
    },
    {
      "cell_type": "code",
      "source": [
        "min_train= np.min(train_features, axis=0)\n",
        "max_train= np.max(train_features, axis=0)\n",
        "print(min_train)\n",
        "print(max_train)\n",
        "min_test = np.min(test_features, axis=0)\n",
        "max_test = np.max(test_features, axis=0)\n",
        "print(min_test)\n",
        "print(max_test)\n",
        "\n",
        "\n"
      ],
      "metadata": {
        "colab": {
          "base_uri": "https://localhost:8080/"
        },
        "id": "HcVajgj47uo2",
        "outputId": "e741b520-5b02-4988-c12f-dc10d1d8cb8c"
      },
      "execution_count": null,
      "outputs": [
        {
          "output_type": "stream",
          "name": "stdout",
          "text": [
            "[10.59   12.41    0.8082  4.899   2.63    0.7651  4.519 ]\n",
            "[21.18   17.25    0.9183  6.675   4.033   8.456   6.55  ]\n",
            "[10.74   12.63    0.8081  4.902   2.642   0.8551  4.649 ]\n",
            "[20.88   17.23    0.9153  6.579   4.032   6.735   6.451 ]\n"
          ]
        }
      ]
    },
    {
      "cell_type": "code",
      "source": [
        "train_normalization = (train_features-min_train)/(max_train-min_train)\n",
        "test_normalization = (test_features-min_test)/(max_test-min_test)"
      ],
      "metadata": {
        "id": "ZIxOgLDSn9mE"
      },
      "execution_count": null,
      "outputs": []
    },
    {
      "cell_type": "code",
      "source": [
        "from sklearn.metrics.pairwise import PAIRWISE_DISTANCE_FUNCTIONS\n",
        "classifier = KNeighborsClassifier(n_neighbors=3)\n",
        "classifier.fit(train_features, train_labels)\n",
        "\n",
        "predictions = classifier.predict(test_features)\n",
        "\n",
        "score = classifier.score(test_features, test_labels)\n",
        "print(f\"Accuracy: {score}\")\n",
        "\n",
        "print(\"Confusion Matrix: \")\n",
        "print(confusion_matrix(test_labels, predictions))\n",
        "\n",
        "print(\"Actual: \", test_labels)\n",
        "print(\"Predicted: \", predictions)\n",
        "\n",
        "# Check few predictions\n",
        "for i in range(10):\n",
        "    if(test_labels[i]==1):\n",
        "      print(\"Actual: Kama\")\n",
        "    elif(test_labels[i]==2):\n",
        "      print(\"Actual: Rosa\")\n",
        "    elif(test_labels[i]==3):\n",
        "      print(\"Actual: Canadian\")\n",
        "    \n",
        "    if(predictions[i]==1):\n",
        "      print(\"Predicted: Kama\")\n",
        "    elif(predictions[i]==2):\n",
        "      print(\"Predicted: Rosa\")\n",
        "    elif(predictions[i]==3):\n",
        "      print(\"Predicted: Canadian\")\n",
        "    "
      ],
      "metadata": {
        "colab": {
          "base_uri": "https://localhost:8080/"
        },
        "id": "XxG1KCmunmOo",
        "outputId": "ae97a1dc-9a72-40a4-a821-638e5b0e2791"
      },
      "execution_count": null,
      "outputs": [
        {
          "output_type": "stream",
          "name": "stdout",
          "text": [
            "Accuracy: 0.8571428571428571\n",
            "Confusion Matrix: \n",
            "[[11  1  2]\n",
            " [ 2 13  0]\n",
            " [ 1  0 12]]\n",
            "Actual:  [1. 3. 3. 1. 2. 1. 1. 2. 2. 1. 1. 2. 3. 2. 1. 2. 2. 1. 1. 2. 2. 3. 3. 2.\n",
            " 3. 3. 3. 3. 1. 3. 2. 1. 1. 3. 2. 2. 3. 1. 2. 3. 1. 2.]\n",
            "Predicted:  [1. 3. 3. 1. 1. 1. 1. 2. 2. 1. 3. 2. 3. 2. 1. 2. 2. 1. 1. 2. 2. 3. 3. 1.\n",
            " 3. 3. 3. 3. 1. 3. 2. 1. 1. 1. 2. 2. 3. 2. 2. 3. 3. 2.]\n",
            "Actual: Kama\n",
            "Predicted: Kama\n",
            "Actual: Canadian\n",
            "Predicted: Canadian\n",
            "Actual: Canadian\n",
            "Predicted: Canadian\n",
            "Actual: Kama\n",
            "Predicted: Kama\n",
            "Actual: Rosa\n",
            "Predicted: Kama\n",
            "Actual: Kama\n",
            "Predicted: Kama\n",
            "Actual: Kama\n",
            "Predicted: Kama\n",
            "Actual: Rosa\n",
            "Predicted: Rosa\n",
            "Actual: Rosa\n",
            "Predicted: Rosa\n",
            "Actual: Kama\n",
            "Predicted: Kama\n"
          ]
        }
      ]
    },
    {
      "cell_type": "code",
      "source": [
        "def euclidean_distance(features, train_features):\n",
        "    distances = np.sqrt(np.sum((features - train_features)**2, axis=1))\n",
        "    return distances\n",
        "def nearest_neighbor(features, train_features, train_labels):\n",
        "    distances = euclidean_distance(features, train_features)\n",
        "    indices = np.argsort(distances)\n",
        "    nearest_neighbor = train_labels[indices[0]]\n",
        "    return nearest_neighbor\n",
        "\n",
        "predicted_label = nearest_neighbor(test_features[1], train_features, train_labels)\n",
        "\n",
        "if(predicted_label==1):\n",
        "    print(\"Predicted: Kama\")\n",
        "elif(predicted_label==2):\n",
        "      print(\"Predicted: Rosa\")\n",
        "elif(predicted_label==3):\n",
        "      print(\"Predicted: Canadian\")\n",
        "    \n",
        "if(test_labels[1]==1):\n",
        "      print(\"Actual label: Kama\")\n",
        "elif(test_labels[1]==2):\n",
        "      print(\"Actual label: Rosa\")\n",
        "elif(test_labels[1]==3):\n",
        "      print(\"Actual label: Canadian\")\n"
      ],
      "metadata": {
        "id": "Sid5WX2TzRkw",
        "colab": {
          "base_uri": "https://localhost:8080/"
        },
        "outputId": "013f9255-7f92-44eb-baca-63857b91848a"
      },
      "execution_count": null,
      "outputs": [
        {
          "output_type": "stream",
          "name": "stdout",
          "text": [
            "Predicted: Canadian\n",
            "Actual label: Canadian\n"
          ]
        }
      ]
    },
    {
      "cell_type": "code",
      "source": [
        "def accuracy(predictions, labels):\n",
        "    correct_predictions = np.sum(predictions == labels)\n",
        "    accuracy = correct_predictions / len(labels)\n",
        "    return accuracy, correct_predictions\n",
        "\n",
        "score, sum = accuracy(predictions, test_labels)\n",
        "print(f\"Accuracy: {score}\")\n",
        "print(f\"Number of data points: {len(test_labels)}\")\n",
        "print(f\"Correct predictions: {sum}\")"
      ],
      "metadata": {
        "colab": {
          "base_uri": "https://localhost:8080/"
        },
        "id": "IiFk6bxt3Sag",
        "outputId": "db48aed3-52c3-48ed-ad85-27680c030e45"
      },
      "execution_count": null,
      "outputs": [
        {
          "output_type": "stream",
          "name": "stdout",
          "text": [
            "Accuracy: 0.8571428571428571\n",
            "Number of data points: 42\n",
            "Correct predictions: 36\n"
          ]
        }
      ]
    },
    {
      "cell_type": "markdown",
      "metadata": {
        "id": "BVYEX8-ihVWS"
      },
      "source": [
        "#### **Instructions**\n",
        "\n",
        "1. Download the dataset from [Github](https://minhaskamal.github.io/DownGit/#/home?url=https://github.com/mirsazzathossain/CSE317-Lab-Numerical-Methods/blob/main/datasets/seeds_dataset.txt). It should be saved as `seeds_dataset.txt`.\n",
        "2. Upload the dataset to your Google Drive and mount your Google Drive to Colab.\n",
        "3. Read the dataset using numpy's built-in function `np.genfromtxt()`. Pass the following parameters to the function:\n",
        "    - `fname`: The path to the dataset\n",
        "    - `delimiter`: The delimiter used in the dataset to separate the attributes (Hint: Use `'\\t'` as the delimiter)\n",
        "    \n",
        "4. Shuffle the dataset using `np.random.shuffle()`. Pass the following parameters to the function:\n",
        "    - `x`: The dataset\n",
        "5. Split the dataset into features and labels. The first 7 columns of the dataset are the features and the last column is the label. Use numpy's array slicing to split the dataset into features and labels. (Hint: Use `:` to select all the rows and `0:7` to select the first 7 columns for features and `7` to select the last column for labels)\n",
        "6. Split the dataset into training and testing sets. Use numpy's built-in function `np.split()` to split the dataset into training and testing sets. Pass the following parameters to the function:\n",
        "    - `ary`: The dataset\n",
        "    - `indices_or_sections`: The number of instances in the training set (Hint: Use `int(0.8 * len(dataset))` to get the number of instances in the training set)\n",
        "    - `axis`: The axis to split the dataset (Hint: Use `0` to split the dataset along the rows)\n",
        "7. Find the minimum and maximum values of each feature in the training set. Use numpy's built-in function `np.min()` and `np.max()` to find the minimum and maximum values of each feature in the training set. Pass the following parameters to the function:\n",
        "    - `a`: The training set\n",
        "    - `axis`: The axis to find the minimum and maximum values (Hint: Use `0` to find the minimum and maximum values along the columns)\n",
        "8. In this step, you must normalize the training and test sets. Nomalization is an essential part of every machine learning project. It is used to bring all the features to the same scale. If the features are not normalized, the higher-valued features will outnumber the lower-valued ones.\n",
        "\n",
        "    For example, suppose we have a dataset with two features: the number of bedrooms in a house and the size of the garden in square feet and we are trying to forecast the rent of the residence. If the features are not normalized, the feature with higher values will take precedence over the feature with lower values. In this scenario, the garden area has a greater value. As a result, the model will make an attempt to forecast the house's price depending on the size of the garden. As a consequence, the model will be faulty since most individuals will not pay higher rent for more garden area. We need to normalize the features in order to prevent this. Let's look at the following illustration to better comprehend what we have said:\n",
        "    \n",
        "    - House 1: 2 bedrooms, 2500 sq. ft. garden\n",
        "    - House 2: 3 bedrooms, 500 sq. ft. garden\n",
        "    - House 3: 7 bedrooms, 2300 sq. ft. garden\n",
        "\n",
        "    Considering that most people won't pay more for a larger garden, it follows that the rent for House 1 should be more comparable to House 2 than to House 3. However, if we give the aforementioned data to a k-NN classifier without normalization, it will compute the euclidean distance between the test and training examples and pick the class of the test instance based on the class of the closest training instance.\n",
        "\n",
        "    The euclidean distance between the test instance and the training instances will be:\n",
        "\n",
        "    - Distance between house 1 and house 2: $\\sqrt{(2-3)^2 + (2500-500)^2} = 2000$\n",
        "    - Distance between house 1 and house 3: $\\sqrt{(2-7)^2 + (2500-2300)^2} = 200$\n",
        "\n",
        "    As you can see, the distance between houses 1 and 3 is shorter than that between houses 1 and 2. As a result, the model will forecast that house 1 will cost around the same as house 3. This is not what was anticipated. We need to normalize the features in order to prevent this. To normalize the features, subtract the minimum value of each feature from all the values of that feature and divide the result by the range of the feature. The range of a feature is the difference between the maximum and minimum values of that feature. The formula for normalization is given below:\n",
        "\n",
        "    $$x_{normalized} = \\frac{x - min(x)}{max(x) - min(x)}$$\n",
        "\n",
        "    where $x$ is the feature vector. The above formula will normalize the features to a scale of 0 to 1.\n",
        "\n",
        "    Let's normalize the features in the above example. To do so, we need to find the minimum and maximum values of each feature. The minimum and maximum values of the number of bedrooms are 2 and 7, respectively. The minimum and maximum values of the garden area are 500 and 2500, respectively. The normalized values of the features are given below:\n",
        "\n",
        "    - House 1: $(2 - 2) / 5 = 0$ bedrooms, $(2500 - 500) / 2000 = 0.75$ sq. ft. garden\n",
        "    - House 2: $(3 - 2) / 5 = 0.2$ bedrooms, $(500 - 500) / 2000 = 0$ sq. ft. garden\n",
        "    - House 3: $(7 - 2) / 5 = 1$ bedrooms, $(2300 - 500) / 2000 = 0.85$ sq. ft. garden\n",
        "\n",
        "    Now, the euclidean distance between the test instance and the training instances will be:\n",
        "\n",
        "    - Distance between house 1 and house 2: $\\sqrt{(0-0.2)^2 + (0.75-0)^2} = 0.77$\n",
        "    - Distance between house 1 and house 3: $\\sqrt{(0-1)^2 + (0.75-0.9)^2} = 1.11$\n",
        "\n",
        "    As you can see now, the distance between houses 1 and 2 is shorter than that between houses 1 and 3. The model will thus forecast that house 1 will cost about the same as house 2, according to the prediction. This is what is anticipated. This is what normalization does. It equalizes the scale of all features. This is important because it prevents the features with higher values from dominating the features with lower values.\n",
        "\n",
        "    Use the minimum and maximum values you found in the previous step to normalize the training and test sets.\n",
        "9. Now, you have to build a classifier to classify the type of wheat seed based on the measurements of the seed. Use the K-Nearest Neighbors algorithm to build the classifier. Use the Euclidean distance to find the nearest neighbors.\n",
        "\n",
        "10. Output the number of data points in the testing set and the number of correct predictions made by the classifier for each class."
      ]
    }
  ],
  "metadata": {
    "kernelspec": {
      "display_name": "Python 3",
      "language": "python",
      "name": "python3"
    },
    "language_info": {
      "codemirror_mode": {
        "name": "ipython",
        "version": 3
      },
      "file_extension": ".py",
      "mimetype": "text/x-python",
      "name": "python",
      "nbconvert_exporter": "python",
      "pygments_lexer": "ipython3",
      "version": "3.10.6 (tags/v3.10.6:9c7b4bd, Aug  1 2022, 21:53:49) [MSC v.1932 64 bit (AMD64)]"
    },
    "orig_nbformat": 4,
    "vscode": {
      "interpreter": {
        "hash": "b148fc9bfa8b60132af830e32e1690e4e023b803e92912df15b823b90141dda6"
      }
    },
    "colab": {
      "provenance": []
    }
  },
  "nbformat": 4,
  "nbformat_minor": 0
}