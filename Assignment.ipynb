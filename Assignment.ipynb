{
  "nbformat": 4,
  "nbformat_minor": 0,
  "metadata": {
    "colab": {
      "provenance": [],
      "collapsed_sections": [],
      "authorship_tag": "ABX9TyO8q0+7IF/y2shppaHZxDqJ",
      "include_colab_link": true
    },
    "kernelspec": {
      "name": "python3",
      "display_name": "Python 3"
    },
    "language_info": {
      "name": "python"
    }
  },
  "cells": [
    {
      "cell_type": "markdown",
      "metadata": {
        "id": "view-in-github",
        "colab_type": "text"
      },
      "source": [
        "<a href=\"https://colab.research.google.com/github/redwanulhaider13/numericals/blob/main/Assignment.ipynb\" target=\"_parent\"><img src=\"https://colab.research.google.com/assets/colab-badge.svg\" alt=\"Open In Colab\"/></a>"
      ]
    },
    {
      "cell_type": "code",
      "execution_count": 6,
      "metadata": {
        "colab": {
          "base_uri": "https://localhost:8080/"
        },
        "id": "2Spo887JFglV",
        "outputId": "9ee58a85-97f2-414d-c823-1f300f438692"
      },
      "outputs": [
        {
          "output_type": "stream",
          "name": "stdout",
          "text": [
            "[[0.0772824  0.25431484 0.71984327 0.95105984 0.67824235]\n",
            " [0.28083286 0.93573384 0.84780112 0.83912133 0.03989275]\n",
            " [0.4813536  0.01125583 0.36366068 0.24707308 0.52005718]\n",
            " [0.6110158  0.56960758 0.0956872  0.2838997  0.44092549]\n",
            " [0.97033943 0.47365226 0.43134706 0.52133964 0.7027014 ]\n",
            " [0.25593618 0.5545642  0.18878989 0.0253406  0.84238727]\n",
            " [0.56320484 0.41241575 0.72390043 0.85245112 0.20652692]\n",
            " [0.33804861 0.16917323 0.66898069 0.60217428 0.14209362]\n",
            " [0.80407201 0.22178283 0.85604472 0.40546659 0.59050369]\n",
            " [0.17262116 0.16564925 0.64968746 0.40172002 0.51367287]]\n"
          ]
        }
      ],
      "source": [
        "import numpy as np\n",
        "array = np.random.rand(10,5)\n",
        "print(array)"
      ]
    },
    {
      "cell_type": "code",
      "source": [
        "#problem 1\n",
        "sum = np.sum(array)\n",
        "mean = np.mean(array)\n",
        "print('sum is')\n",
        "print(sum)\n",
        "print('mean is')\n",
        "print(mean)"
      ],
      "metadata": {
        "colab": {
          "base_uri": "https://localhost:8080/"
        },
        "id": "jZrQ0VmcGbxW",
        "outputId": "59a1da7a-3253-4c70-c8c6-e9dcb2bca399"
      },
      "execution_count": 11,
      "outputs": [
        {
          "output_type": "stream",
          "name": "stdout",
          "text": [
            "sum is\n",
            "23.675248711103656\n",
            "mean is\n",
            "0.4735049742220731\n"
          ]
        }
      ]
    },
    {
      "cell_type": "code",
      "source": [
        "sum_thirdcolumn= np.mean(array[:,2])\n",
        "print(sum_thirdcolumn)"
      ],
      "metadata": {
        "colab": {
          "base_uri": "https://localhost:8080/"
        },
        "id": "u0tXQsA3IeXy",
        "outputId": "e8437a58-84e9-47c9-e6d9-c1a37b346dbd"
      },
      "execution_count": 15,
      "outputs": [
        {
          "output_type": "stream",
          "name": "stdout",
          "text": [
            "0.5545742502693685\n"
          ]
        }
      ]
    },
    {
      "cell_type": "code",
      "source": [
        "vector = [25,16,9,4,1]\n",
        "squares= []\n",
        "for x in vector:\n",
        "  squares.append(x**2)\n",
        "print(squares)"
      ],
      "metadata": {
        "colab": {
          "base_uri": "https://localhost:8080/"
        },
        "id": "1XboxjfVLJoX",
        "outputId": "e32e04e0-ac4e-423b-9330-08274ee4926a"
      },
      "execution_count": 16,
      "outputs": [
        {
          "output_type": "stream",
          "name": "stdout",
          "text": [
            "[625, 256, 81, 16, 1]\n"
          ]
        }
      ]
    },
    {
      "cell_type": "code",
      "source": [
        "x=7\n",
        "a = np.arange(1,x+1)\n",
        "a[::-1].sort()\n",
        "print(a)\n",
        "squares= []\n",
        "for x in a:\n",
        "  squares.append(x**2)\n",
        "print(squares)"
      ],
      "metadata": {
        "colab": {
          "base_uri": "https://localhost:8080/"
        },
        "id": "pZn4RbtfRLQ_",
        "outputId": "2507b635-2c52-4cc4-8aa3-30cfdb38fa01"
      },
      "execution_count": 22,
      "outputs": [
        {
          "output_type": "stream",
          "name": "stdout",
          "text": [
            "[7 6 5 4 3 2 1]\n",
            "[49, 36, 25, 16, 9, 4, 1]\n"
          ]
        }
      ]
    },
    {
      "cell_type": "code",
      "source": [
        "b = np.array([[1,0,0,2,2],[0,1,0,2,2],[0,0,1,2,2],[25,16,9,4,1]])\n",
        "print(b)"
      ],
      "metadata": {
        "colab": {
          "base_uri": "https://localhost:8080/"
        },
        "id": "rs9WK4GjaJnV",
        "outputId": "3dd1baf8-0c0d-4c31-e356-96dbd4bf1cc1"
      },
      "execution_count": 26,
      "outputs": [
        {
          "output_type": "stream",
          "name": "stdout",
          "text": [
            "[[ 1  0  0  2  2]\n",
            " [ 0  1  0  2  2]\n",
            " [ 0  0  1  2  2]\n",
            " [25 16  9  4  1]]\n"
          ]
        }
      ]
    }
  ]
}